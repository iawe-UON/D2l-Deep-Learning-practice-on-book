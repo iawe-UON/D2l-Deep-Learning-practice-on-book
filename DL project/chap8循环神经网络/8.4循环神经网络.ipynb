{
 "cells": [
  {
   "cell_type": "code",
   "execution_count": 1,
   "id": "bdc62454",
   "metadata": {},
   "outputs": [],
   "source": [
    "import torch\n",
    "from d2l import torch as d2l"
   ]
  },
  {
   "cell_type": "code",
   "execution_count": 2,
   "id": "988468be",
   "metadata": {},
   "outputs": [
    {
     "data": {
      "text/plain": [
       "tensor([[-3.4965e-01, -2.7347e-03,  4.8379e-01, -7.0489e-01],\n",
       "        [ 3.4279e+00, -2.3405e-01, -9.6044e-01,  1.0652e-01],\n",
       "        [-1.3456e+00,  6.6130e-01, -1.5307e+00,  7.9374e-01]])"
      ]
     },
     "execution_count": 2,
     "metadata": {},
     "output_type": "execute_result"
    }
   ],
   "source": [
    "X,W_xh=torch.normal(0,1,(3,1)),torch.normal(0,1,(1,4))\n",
    "H,W_hh=torch.normal(0,1,(3,4)),torch.normal(0,1,(4,4))\n",
    "torch.matmul(X,W_xh)+torch.matmul(H,W_hh)"
   ]
  },
  {
   "cell_type": "code",
   "execution_count": null,
   "id": "92535962",
   "metadata": {},
   "outputs": [],
   "source": []
  }
 ],
 "metadata": {
  "kernelspec": {
   "display_name": "Python 3 (ipykernel)",
   "language": "python",
   "name": "python3"
  },
  "language_info": {
   "codemirror_mode": {
    "name": "ipython",
    "version": 3
   },
   "file_extension": ".py",
   "mimetype": "text/x-python",
   "name": "python",
   "nbconvert_exporter": "python",
   "pygments_lexer": "ipython3",
   "version": "3.7.16"
  }
 },
 "nbformat": 4,
 "nbformat_minor": 5
}
