{
 "cells": [
  {
   "cell_type": "code",
   "execution_count": null,
   "id": "74f5869e",
   "metadata": {},
   "outputs": [],
   "source": [
    "import torch\n",
    "from d2l import torch as d2l\n",
    "import numpy as np\n",
    "from torch import nn\n",
    "\n",
    "num_inputs,num_hidden,num_outputs=28*28,256,10\n",
    "net=nn.Sequential(\n",
    "    nn.Flatten(),\n",
    "    nn.Linear(28*28,256),\n",
    "    nn.ReLU(),\n",
    "    nn.Linear(256,10)\n",
    ")\n",
    "def init_weight(m):#重要，初始化神经网络权重\n",
    "    if type(m)==nn.Linear:\n",
    "        nn.init.normal_(m.weight,std=0.1)\n",
    "net.apply(init_weight)"
   ]
  },
  {
   "cell_type": "code",
   "execution_count": null,
   "id": "1df451cc",
   "metadata": {},
   "outputs": [],
   "source": [
    "num_epochs=10\n",
    "lr=0.3\n",
    "batch_size=256*10\n",
    "loss=nn.CrossEntropyLoss()\n",
    "updater=torch.optim.SGD(net.parameters(),lr=lr)\n",
    "train_iter,test_iter=d2l.load_data_fashion_mnist(batch_size)\n",
    "train_iter.num_workers=0\n",
    "test_iter.num_workers=0\n",
    "d2l.train_ch3(net,train_iter,test_iter,loss,num_epochs,updater)"
   ]
  },
  {
   "cell_type": "code",
   "execution_count": null,
   "id": "c9f11620",
   "metadata": {},
   "outputs": [],
   "source": [
    "d2l.predict_ch3(net,test_iter)"
   ]
  },
  {
   "cell_type": "code",
   "execution_count": null,
   "id": "c62785ef",
   "metadata": {},
   "outputs": [],
   "source": []
  }
 ],
 "metadata": {
  "kernelspec": {
   "display_name": "Python 3 (ipykernel)",
   "language": "python",
   "name": "python3"
  },
  "language_info": {
   "codemirror_mode": {
    "name": "ipython",
    "version": 3
   },
   "file_extension": ".py",
   "mimetype": "text/x-python",
   "name": "python",
   "nbconvert_exporter": "python",
   "pygments_lexer": "ipython3",
   "version": "3.7.16"
  }
 },
 "nbformat": 4,
 "nbformat_minor": 5
}
