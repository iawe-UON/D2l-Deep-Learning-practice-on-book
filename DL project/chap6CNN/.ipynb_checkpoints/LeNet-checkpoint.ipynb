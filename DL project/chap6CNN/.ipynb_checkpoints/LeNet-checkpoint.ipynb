{
 "cells": [
  {
   "cell_type": "code",
   "execution_count": 22,
   "id": "50253b2f",
   "metadata": {},
   "outputs": [],
   "source": [
    "import torch\n",
    "from torch import nn\n",
    "from d2l import torch as d2l\n"
   ]
  },
  {
   "cell_type": "code",
   "execution_count": 23,
   "id": "e288fd5e",
   "metadata": {},
   "outputs": [],
   "source": [
    "net=nn.Sequential(\n",
    "    nn.Conv2d(1,6,kernel_size=(5,5),padding=2),\n",
    "    nn.Sigmoid(),\n",
    "    nn.AvgPool2d((2,2),stride=2),\n",
    "    nn.Conv2d(6,16,kernel_size=(5,5)),\n",
    "    nn.Sigmoid(),\n",
    "    nn.AvgPool2d((2,2),stride=2),\n",
    "    nn.Flatten(),\n",
    "    nn.Linear(16*5*5,120),\n",
    "    nn.Sigmoid(),\n",
    "    nn.Linear(120,84),\n",
    "    nn.Sigmoid(),\n",
    "    nn.Linear(84,10)\n",
    ")"
   ]
  },
  {
   "cell_type": "code",
   "execution_count": 24,
   "id": "1479d112",
   "metadata": {},
   "outputs": [
    {
     "name": "stdout",
     "output_type": "stream",
     "text": [
      "Conv2d \t output_shape\t torch.Size([1, 6, 28, 28])\n",
      "Sigmoid \t output_shape\t torch.Size([1, 6, 28, 28])\n",
      "AvgPool2d \t output_shape\t torch.Size([1, 6, 14, 14])\n",
      "Conv2d \t output_shape\t torch.Size([1, 16, 10, 10])\n",
      "Sigmoid \t output_shape\t torch.Size([1, 16, 10, 10])\n",
      "AvgPool2d \t output_shape\t torch.Size([1, 16, 5, 5])\n",
      "Flatten \t output_shape\t torch.Size([1, 400])\n",
      "Linear \t output_shape\t torch.Size([1, 120])\n",
      "Sigmoid \t output_shape\t torch.Size([1, 120])\n",
      "Linear \t output_shape\t torch.Size([1, 84])\n",
      "Sigmoid \t output_shape\t torch.Size([1, 84])\n",
      "Linear \t output_shape\t torch.Size([1, 10])\n"
     ]
    }
   ],
   "source": [
    "x=torch.randn((1,1,28,28),dtype=torch.float32)\n",
    "for layer in net:\n",
    "    x=layer(x)\n",
    "    print(layer.__class__.__name__,'\\t','output_shape\\t',x.shape)"
   ]
  },
  {
   "cell_type": "markdown",
   "id": "7aa4e6dc",
   "metadata": {},
   "source": [
    "## 训练模型（重点）\n",
    "####    放到GPU中训练"
   ]
  },
  {
   "cell_type": "code",
   "execution_count": 42,
   "id": "0ec9d11a",
   "metadata": {},
   "outputs": [],
   "source": [
    "batch_size=256\n",
    "train_iter,test_iter=d2l.load_data_fashion_mnist(batch_size=batch_size)\n",
    "train_iter.num_workers=0\n",
    "test_iter.num_workers=0"
   ]
  },
  {
   "cell_type": "code",
   "execution_count": 49,
   "id": "0379b1dc",
   "metadata": {},
   "outputs": [],
   "source": [
    "def eval_acc_gpu(net,data_iter,device=None):\n",
    "    if isinstance(net,nn.Module):\n",
    "        net.eval()\n",
    "        if not device:\n",
    "            device=next(iter(net.parameters())).device\n",
    "    metric=d2l.Accumulator(2)\n",
    "    with torch.no_grad():\n",
    "        for X,y,in data_iter:\n",
    "            if isinstance(X,list):\n",
    "                X=[x.to(device) for x in X]\n",
    "            else:\n",
    "                X=X.to(device)\n",
    "            y=y.to(device)\n",
    "            metric.add(d2l.accuracy(net(X),y),y.numel())\n",
    "    return metric[0]/metric[1]"
   ]
  },
  {
   "cell_type": "code",
   "execution_count": 61,
   "id": "30ec6d13",
   "metadata": {},
   "outputs": [],
   "source": [
    "def train_ch3():\n",
    "    def init_weight(m):\n",
    "        if type(m)==nn.Linear or type(m)==nn.Conv2d:\n",
    "            nn.init.xavier_uniform_(m.weight)\n",
    "    net.apply(init_weight)\n",
    "    print(f'device is {device}')\n",
    "    net.to(device)\n",
    "    optimizer=torch.optim.SGD(net.parameters(),lr=lr)\n",
    "    loss=nn.CrossEntropyLoss()\n",
    "    animator=d2l.Animator(xlable='epochs',xlim=[1,num_epochs],legend=['train_loss','train_acc','test_acc'])\n",
    "    timer,num_batch=d2l.Timer(),len(train_iter)\n",
    "    for epoch in range(num_epochs):\n",
    "        metric=d2l.Accumulator(3)\n",
    "        net.train()\n",
    "        for i,(X,y) in enumerate(train_iter):\n",
    "            timer.start()#训练开始\n",
    "            optimizer.zero_grad()\n",
    "            X.to(device),y.to(device)\n",
    "            y_hat=net(x)\n",
    "            l=loss(y_hat,y)\n",
    "            l.backward()\n",
    "            optimizer.step()\n",
    "            with torch.no_grad():\n",
    "                metric.add(l*X.shape[0],d2l.accuracy(y_hat,y),X.shape[0])\n",
    "            timer.stop()#训练结束\n",
    "            "
   ]
  },
  {
   "cell_type": "code",
   "execution_count": 59,
   "id": "84db5154",
   "metadata": {},
   "outputs": [
    {
     "data": {
      "text/plain": [
       "(torch.Size([1, 2, 5, 5]), 5)"
      ]
     },
     "execution_count": 59,
     "metadata": {},
     "output_type": "execute_result"
    }
   ],
   "source": []
  },
  {
   "cell_type": "code",
   "execution_count": null,
   "id": "ef974c1c",
   "metadata": {},
   "outputs": [],
   "source": []
  }
 ],
 "metadata": {
  "kernelspec": {
   "display_name": "Python 3 (ipykernel)",
   "language": "python",
   "name": "python3"
  },
  "language_info": {
   "codemirror_mode": {
    "name": "ipython",
    "version": 3
   },
   "file_extension": ".py",
   "mimetype": "text/x-python",
   "name": "python",
   "nbconvert_exporter": "python",
   "pygments_lexer": "ipython3",
   "version": "3.7.16"
  }
 },
 "nbformat": 4,
 "nbformat_minor": 5
}
