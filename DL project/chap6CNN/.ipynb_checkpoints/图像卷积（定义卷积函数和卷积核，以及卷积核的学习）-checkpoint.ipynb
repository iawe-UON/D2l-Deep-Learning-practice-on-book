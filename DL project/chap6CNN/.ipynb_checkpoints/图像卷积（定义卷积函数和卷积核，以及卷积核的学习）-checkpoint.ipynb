{
 "cells": [
  {
   "cell_type": "code",
   "execution_count": 6,
   "id": "3c4d5bb0",
   "metadata": {},
   "outputs": [
    {
     "data": {
      "text/plain": [
       "(3,\n",
       " 4,\n",
       " tensor([[ 1.3210,  1.1308, -1.2839,  2.3363],\n",
       "         [ 0.6996, -0.0933, -1.8603, -1.6526],\n",
       "         [ 3.9263,  2.1633,  1.3732,  3.3151]]))"
      ]
     },
     "execution_count": 6,
     "metadata": {},
     "output_type": "execute_result"
    }
   ],
   "source": [
    "import torch\n",
    "from torch import nn\n",
    "from d2l import torch as d2l\n",
    "\n",
    "x=torch.normal(1,2,(3,4))\n",
    "x\n",
    "x.shape[0],x.shape[1],x\n"
   ]
  },
  {
   "cell_type": "code",
   "execution_count": 9,
   "id": "ec0a0a9a",
   "metadata": {},
   "outputs": [],
   "source": [
    "def corr2d(x,k):#定义卷积\n",
    "    h,w=k.shape\n",
    "    y=torch.zeros(x.shape[0]-h+1,x.shape[1]-w+1)\n",
    "    for i in range(y.shape[0]):\n",
    "        for j in range(y.shape[1]):\n",
    "            y[i][j]=(x[i:i+h,j:j+w]*k).sum()\n",
    "    return y"
   ]
  },
  {
   "cell_type": "code",
   "execution_count": 10,
   "id": "edafab25",
   "metadata": {},
   "outputs": [
    {
     "data": {
      "text/plain": [
       "tensor([[19., 25.],\n",
       "        [37., 43.]])"
      ]
     },
     "execution_count": 10,
     "metadata": {},
     "output_type": "execute_result"
    }
   ],
   "source": [
    "x=torch.tensor([[0.,1.,2.],[3.,4.,5.],[6.,7.,8.]])\n",
    "k=torch.tensor([[0.,1.],[2.,3.]])\n",
    "corr2d(x,k)"
   ]
  },
  {
   "cell_type": "code",
   "execution_count": 11,
   "id": "3e0508dc",
   "metadata": {},
   "outputs": [],
   "source": [
    "#定义卷积层：\n",
    "class Conv2d(nn.Module):\n",
    "    def __init__(self,kernel_size):\n",
    "        super().__init__()\n",
    "        self.weight=nn.Parameter(torch.randn(kernel_size))\n",
    "        self.bias=nn.Parameter(torch.zeros(1))#用广播机制\n",
    "    def forward(self,x):\n",
    "        return corr2d(x,self.weight)+self.bias"
   ]
  },
  {
   "cell_type": "code",
   "execution_count": 14,
   "id": "0a75e5a9",
   "metadata": {},
   "outputs": [
    {
     "data": {
      "text/plain": [
       "tensor([[1., 1., 0., 0., 0., 0., 1., 1.],\n",
       "        [1., 1., 0., 0., 0., 0., 1., 1.],\n",
       "        [1., 1., 0., 0., 0., 0., 1., 1.],\n",
       "        [1., 1., 0., 0., 0., 0., 1., 1.],\n",
       "        [1., 1., 0., 0., 0., 0., 1., 1.],\n",
       "        [1., 1., 0., 0., 0., 0., 1., 1.]])"
      ]
     },
     "execution_count": 14,
     "metadata": {},
     "output_type": "execute_result"
    }
   ],
   "source": [
    "x=torch.ones((6,8))\n",
    "x[:,2:6]=0\n",
    "x"
   ]
  },
  {
   "cell_type": "code",
   "execution_count": 18,
   "id": "8d02e627",
   "metadata": {},
   "outputs": [],
   "source": [
    "k=torch.tensor([[1.,-1.]])"
   ]
  },
  {
   "cell_type": "code",
   "execution_count": 24,
   "id": "640dd64e",
   "metadata": {},
   "outputs": [
    {
     "data": {
      "text/plain": [
       "tensor([[ 0.,  1.,  0.,  0.,  0., -1.,  0.],\n",
       "        [ 0.,  1.,  0.,  0.,  0., -1.,  0.],\n",
       "        [ 0.,  1.,  0.,  0.,  0., -1.,  0.],\n",
       "        [ 0.,  1.,  0.,  0.,  0., -1.,  0.],\n",
       "        [ 0.,  1.,  0.,  0.,  0., -1.,  0.],\n",
       "        [ 0.,  1.,  0.,  0.,  0., -1.,  0.]])"
      ]
     },
     "execution_count": 24,
     "metadata": {},
     "output_type": "execute_result"
    }
   ],
   "source": [
    "y=corr2d(x,k)\n",
    "y"
   ]
  },
  {
   "cell_type": "code",
   "execution_count": 21,
   "id": "a6e38575",
   "metadata": {},
   "outputs": [
    {
     "data": {
      "text/plain": [
       "tensor([[0., 0., 0., 0., 0.],\n",
       "        [0., 0., 0., 0., 0.],\n",
       "        [0., 0., 0., 0., 0.],\n",
       "        [0., 0., 0., 0., 0.],\n",
       "        [0., 0., 0., 0., 0.],\n",
       "        [0., 0., 0., 0., 0.],\n",
       "        [0., 0., 0., 0., 0.],\n",
       "        [0., 0., 0., 0., 0.]])"
      ]
     },
     "execution_count": 21,
     "metadata": {},
     "output_type": "execute_result"
    }
   ],
   "source": [
    "corr2d(x.T,k)"
   ]
  },
  {
   "cell_type": "markdown",
   "id": "ed3e8ec3",
   "metadata": {},
   "source": [
    "### 如上，k卷积核只能检测垂直边缘，不能检测水平边缘"
   ]
  },
  {
   "cell_type": "code",
   "execution_count": 33,
   "id": "668dfef1",
   "metadata": {},
   "outputs": [
    {
     "name": "stdout",
     "output_type": "stream",
     "text": [
      "epoch1,loss13.221\n",
      "epoch2,loss5.432\n",
      "epoch3,loss2.236\n",
      "epoch4,loss0.923\n",
      "epoch5,loss0.382\n",
      "epoch6,loss0.159\n",
      "epoch7,loss0.067\n",
      "epoch8,loss0.029\n",
      "epoch9,loss0.012\n",
      "epoch10,loss0.006\n"
     ]
    }
   ],
   "source": [
    "conv2d=nn.Conv2d(1,1,kernel_size=(1,2),bias=False)\n",
    "x=x.reshape((1,1,6,8))\n",
    "y=y.reshape((1,1,6,7))\n",
    "lr=3e-2\n",
    "for i in range(10):\n",
    "    y_hat=conv2d(x)\n",
    "    loss=(y_hat-y.reshape(y_hat.shape))**2\n",
    "    conv2d.zero_grad()\n",
    "    loss.sum().backward()\n",
    "    conv2d.weight.data-=lr*conv2d.weight.grad\n",
    "    print(f'epoch{i+1},loss{loss.sum():.3f}')"
   ]
  },
  {
   "cell_type": "code",
   "execution_count": 34,
   "id": "b0edf4cd",
   "metadata": {},
   "outputs": [
    {
     "data": {
      "text/plain": [
       "OrderedDict([('weight', tensor([[[[ 0.9842, -0.9917]]]]))])"
      ]
     },
     "execution_count": 34,
     "metadata": {},
     "output_type": "execute_result"
    }
   ],
   "source": [
    "conv2d.state_dict()"
   ]
  },
  {
   "cell_type": "code",
   "execution_count": null,
   "id": "3f7acde7",
   "metadata": {},
   "outputs": [],
   "source": []
  }
 ],
 "metadata": {
  "kernelspec": {
   "display_name": "Python 3 (ipykernel)",
   "language": "python",
   "name": "python3"
  },
  "language_info": {
   "codemirror_mode": {
    "name": "ipython",
    "version": 3
   },
   "file_extension": ".py",
   "mimetype": "text/x-python",
   "name": "python",
   "nbconvert_exporter": "python",
   "pygments_lexer": "ipython3",
   "version": "3.7.16"
  }
 },
 "nbformat": 4,
 "nbformat_minor": 5
}
