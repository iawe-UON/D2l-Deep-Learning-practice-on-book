{
 "cells": [
  {
   "cell_type": "code",
   "execution_count": 2,
   "id": "a8e440e6",
   "metadata": {},
   "outputs": [],
   "source": [
    "import torch.nn as nn\n",
    "from d2l import torch as d2l\n",
    "import torch"
   ]
  },
  {
   "cell_type": "code",
   "execution_count": 3,
   "id": "9c862d79",
   "metadata": {},
   "outputs": [],
   "source": [
    "class center_layer(nn.Module):\n",
    "    def __init__(self):\n",
    "        super().__init__()\n",
    "    def forward(self,x):\n",
    "        return x-x.mean()"
   ]
  },
  {
   "cell_type": "code",
   "execution_count": 4,
   "id": "638195c5",
   "metadata": {},
   "outputs": [
    {
     "data": {
      "text/plain": [
       "tensor([-2., -1.,  0.,  1.,  2.])"
      ]
     },
     "execution_count": 4,
     "metadata": {},
     "output_type": "execute_result"
    }
   ],
   "source": [
    "net=center_layer()\n",
    "x=torch.tensor([1.,2.,3.,4.,5.])\n",
    "net(x)"
   ]
  },
  {
   "cell_type": "code",
   "execution_count": 40,
   "id": "44160acc",
   "metadata": {},
   "outputs": [],
   "source": [
    "class M(nn.Module):\n",
    "    def __init__(self,in_units,out_units):\n",
    "        super().__init__()\n",
    "        self.weight=nn.Parameter(torch.randn(in_units,out_units))#正态随机分布\n",
    "        self.bias=nn.Parameter(torch.rand(out_units,))#均匀随机分布\n",
    "    def forward(self,x):\n",
    "        linear=torch.matmul(x,self.weight.data)+self.bias.data\n",
    "        return linear"
   ]
  },
  {
   "cell_type": "code",
   "execution_count": 42,
   "id": "9d926888",
   "metadata": {},
   "outputs": [
    {
     "data": {
      "text/plain": [
       "tensor([[ 1.1716,  0.5775,  1.3724],\n",
       "        [ 1.1176, -0.1788,  1.6433]])"
      ]
     },
     "execution_count": 42,
     "metadata": {},
     "output_type": "execute_result"
    }
   ],
   "source": [
    "net=M(5,3)\n",
    "net(torch.rand(2,5))"
   ]
  },
  {
   "cell_type": "code",
   "execution_count": null,
   "id": "d95cf414",
   "metadata": {},
   "outputs": [],
   "source": []
  },
  {
   "cell_type": "code",
   "execution_count": null,
   "id": "30a9ae7f",
   "metadata": {},
   "outputs": [],
   "source": []
  }
 ],
 "metadata": {
  "kernelspec": {
   "display_name": "Python 3 (ipykernel)",
   "language": "python",
   "name": "python3"
  },
  "language_info": {
   "codemirror_mode": {
    "name": "ipython",
    "version": 3
   },
   "file_extension": ".py",
   "mimetype": "text/x-python",
   "name": "python",
   "nbconvert_exporter": "python",
   "pygments_lexer": "ipython3",
   "version": "3.7.16"
  }
 },
 "nbformat": 4,
 "nbformat_minor": 5
}
