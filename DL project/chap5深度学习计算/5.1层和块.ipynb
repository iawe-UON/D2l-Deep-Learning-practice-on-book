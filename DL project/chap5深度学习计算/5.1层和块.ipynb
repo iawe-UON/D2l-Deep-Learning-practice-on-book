{
 "cells": [
  {
   "cell_type": "code",
   "execution_count": 3,
   "id": "32374add",
   "metadata": {},
   "outputs": [
    {
     "data": {
      "text/plain": [
       "tensor([[-0.1171,  0.0308,  0.0767, -0.1855,  0.3301, -0.0563,  0.1596, -0.1062,\n",
       "         -0.2404, -0.2420],\n",
       "        [-0.4693, -0.6231,  0.5358,  0.1676, -0.1126, -0.4171,  0.0014,  0.1881,\n",
       "         -0.3684,  0.2428]], grad_fn=<AddmmBackward0>)"
      ]
     },
     "execution_count": 3,
     "metadata": {},
     "output_type": "execute_result"
    }
   ],
   "source": [
    "from torch import nn\n",
    "from d2l import torch as d2l\n",
    "import torch\n",
    "import math\n",
    "import numpy as np\n",
    "net=nn.Sequential(\n",
    "    nn.Linear(20,256),\n",
    "    nn.ReLU(),\n",
    "    nn.Linear(256,10)\n",
    ")\n",
    "x=torch.normal(0,1,(2,20))\n",
    "net(x)"
   ]
  },
  {
   "cell_type": "code",
   "execution_count": 4,
   "id": "03ab3ac7",
   "metadata": {},
   "outputs": [],
   "source": [
    "class MLP(nn.Module):#自定义神经网络\n",
    "    def __init__(self):\n",
    "        super().__init__()\n",
    "        self.hidden=nn.Linear(20,256)\n",
    "        self.out=nn.Linear(256,10)\n",
    "    def forward(self,x):\n",
    "        return self.out(nn.functional.relu(self.hidden(x)))"
   ]
  },
  {
   "cell_type": "code",
   "execution_count": 5,
   "id": "bb5ab734",
   "metadata": {},
   "outputs": [
    {
     "data": {
      "text/plain": [
       "tensor([[ 0.0066,  0.0689,  0.1696,  0.2444,  0.2234, -0.1661,  0.2629, -0.0161,\n",
       "          0.1622,  0.1526],\n",
       "        [ 0.3730,  0.1781,  0.4780, -0.0409,  0.3053,  0.0421,  0.3990,  0.1468,\n",
       "         -0.1722,  0.6549]], grad_fn=<AddmmBackward0>)"
      ]
     },
     "execution_count": 5,
     "metadata": {},
     "output_type": "execute_result"
    }
   ],
   "source": [
    "net=MLP()\n",
    "net(x)"
   ]
  },
  {
   "cell_type": "markdown",
   "id": "be6850cf",
   "metadata": {},
   "source": [
    "#### enumerate()函数主要是将一个可遍历的数据对象(如列表、元组或字符串)组合为一个索引序列，同时列出数据和数据下标，形成一组键值对"
   ]
  },
  {
   "cell_type": "code",
   "execution_count": 53,
   "id": "ddd00410",
   "metadata": {},
   "outputs": [],
   "source": [
    "class MYS(nn.Module):\n",
    "    def __init__(self, *args):\n",
    "        super().__init__()\n",
    "        for idx,module in enumerate(args):\n",
    "            self._modules[str(idx)]=module\n",
    "    def forward(self, x):\n",
    "        for b in self._modules.values():#加两根下划线的话，无法从外部访问self.modules\n",
    "            x=b(x)\n",
    "        return x"
   ]
  },
  {
   "cell_type": "code",
   "execution_count": 56,
   "id": "fd79609e",
   "metadata": {},
   "outputs": [
    {
     "data": {
      "text/plain": [
       "tensor([[-0.0195,  0.2699, -0.2267, -0.0524,  0.0661,  0.1545,  0.0299,  0.1127,\n",
       "          0.2180, -0.3290],\n",
       "        [ 0.3626,  0.3333,  0.2494,  0.4467, -0.0353,  0.2803,  0.1796,  0.3860,\n",
       "          0.6106, -0.3706]], grad_fn=<AddmmBackward0>)"
      ]
     },
     "execution_count": 56,
     "metadata": {},
     "output_type": "execute_result"
    }
   ],
   "source": [
    "net=MYS(nn.Linear(20,256),nn.ReLU(),nn.Linear(256,10))\n",
    "net(x)"
   ]
  },
  {
   "cell_type": "markdown",
   "id": "943cccec",
   "metadata": {},
   "source": [
    "### 实现$y=cW^TX$"
   ]
  },
  {
   "cell_type": "code",
   "execution_count": 69,
   "id": "30ada074",
   "metadata": {},
   "outputs": [],
   "source": [
    "#input 20,output 10,hidden 256\n",
    "class fixedhiddenMLP(nn.Module):\n",
    "    def __init__(self):\n",
    "        super().__init__()\n",
    "        self.c=torch.normal(0,10,(256,256),requires_grad=False)#常数隐藏层，但是不梯度更新参数，所以requires-grad=False\n",
    "        self.layer1=nn.Linear(20,256)\n",
    "        self.layer2=nn.Linear(256,10)\n",
    "    def forward(self,x):\n",
    "        x=self.layer1(x)\n",
    "        x=nn.functional.relu(torch.matmul(x,self.c))\n",
    "        x=self.layer2(x)\n",
    "        #做一个控制流\n",
    "        while x.abs().sum()>1:\n",
    "            x/=2\n",
    "        return x.sum()"
   ]
  },
  {
   "cell_type": "code",
   "execution_count": 86,
   "id": "16997659",
   "metadata": {},
   "outputs": [
    {
     "data": {
      "text/plain": [
       "tensor(-0.1862, grad_fn=<SumBackward0>)"
      ]
     },
     "execution_count": 86,
     "metadata": {},
     "output_type": "execute_result"
    }
   ],
   "source": [
    "net=fixedhiddenMLP()\n",
    "net(x)"
   ]
  },
  {
   "cell_type": "markdown",
   "id": "1027e8c0",
   "metadata": {},
   "source": [
    "### 内部镶嵌各种组合块"
   ]
  },
  {
   "cell_type": "code",
   "execution_count": 91,
   "id": "8679f763",
   "metadata": {},
   "outputs": [],
   "source": [
    "class MLP(nn.Module):\n",
    "    def __init__(self):\n",
    "        super().__init__()\n",
    "        self.net=nn.Sequential(\n",
    "            nn.Linear(20,256),\n",
    "            nn.ReLU(),\n",
    "            nn.Linear(256,256),\n",
    "            nn.ReLU()\n",
    "        )\n",
    "        self.layer=nn.Linear(256,10)\n",
    "    def forward(self,x):\n",
    "        return self.layer(self.net(x))"
   ]
  },
  {
   "cell_type": "markdown",
   "id": "0d8bfe43",
   "metadata": {},
   "source": [
    "### 外部随意组合"
   ]
  },
  {
   "cell_type": "code",
   "execution_count": 92,
   "id": "0927d5e9",
   "metadata": {},
   "outputs": [
    {
     "data": {
      "text/plain": [
       "tensor(0.1540, grad_fn=<SumBackward0>)"
      ]
     },
     "execution_count": 92,
     "metadata": {},
     "output_type": "execute_result"
    }
   ],
   "source": [
    "nett=nn.Sequential(MLP(),nn.Linear(10,20),fixedhiddenMLP())\n",
    "nett(x)"
   ]
  },
  {
   "cell_type": "markdown",
   "id": "ad21e8b2",
   "metadata": {},
   "source": [
    "### 关于效率问题，我们担心速度极快的GPU可能要等到CPU运行Python代码后才能运行另一个作业。"
   ]
  }
 ],
 "metadata": {
  "kernelspec": {
   "display_name": "Python 3 (ipykernel)",
   "language": "python",
   "name": "python3"
  },
  "language_info": {
   "codemirror_mode": {
    "name": "ipython",
    "version": 3
   },
   "file_extension": ".py",
   "mimetype": "text/x-python",
   "name": "python",
   "nbconvert_exporter": "python",
   "pygments_lexer": "ipython3",
   "version": "3.7.16"
  }
 },
 "nbformat": 4,
 "nbformat_minor": 5
}
