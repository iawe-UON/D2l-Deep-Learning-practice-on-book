{
 "cells": [
  {
   "cell_type": "code",
   "execution_count": 3,
   "id": "81a34415",
   "metadata": {},
   "outputs": [],
   "source": [
    "import torch.nn as nn\n",
    "from d2l import torch as d2l\n",
    "import torch\n",
    "import numpy as np"
   ]
  },
  {
   "cell_type": "markdown",
   "id": "fd70c532",
   "metadata": {},
   "source": [
    "### 此功能pytorch正在开发，随时都会对API进行更改，函数是LazyLinear（），只用指定输出维度，输入维度不用进行确定"
   ]
  },
  {
   "cell_type": "code",
   "execution_count": 12,
   "id": "18379a48",
   "metadata": {},
   "outputs": [
    {
     "data": {
      "text/plain": [
       "[OrderedDict([('weight',\n",
       "               tensor([[-0.3042, -0.0725,  0.1810, -0.2556,  0.2438, -0.1672, -0.0953, -0.0436,\n",
       "                        -0.2617, -0.1743],\n",
       "                       [ 0.1315, -0.2967, -0.1993,  0.2018,  0.0341,  0.0998, -0.2743,  0.1386,\n",
       "                         0.2161, -0.2486],\n",
       "                       [-0.2826, -0.0714, -0.2974,  0.2548, -0.1285, -0.0935, -0.0504, -0.1449,\n",
       "                         0.1403,  0.1494],\n",
       "                       [-0.2868, -0.1151, -0.0416, -0.1030,  0.0465,  0.1052,  0.2039,  0.3110,\n",
       "                        -0.0427, -0.2855],\n",
       "                       [ 0.1866,  0.2968,  0.3038,  0.2761, -0.0360, -0.1624,  0.2789,  0.3063,\n",
       "                         0.0137,  0.2365],\n",
       "                       [ 0.1314, -0.2548, -0.2847,  0.1184, -0.2509, -0.1865,  0.2252, -0.2376,\n",
       "                        -0.0227,  0.2490],\n",
       "                       [-0.0568, -0.0500, -0.0443, -0.2377, -0.1568,  0.0635, -0.0645,  0.0800,\n",
       "                         0.2810, -0.0687],\n",
       "                       [-0.1577,  0.2134,  0.0636, -0.1349,  0.0691, -0.2291, -0.0055,  0.2028,\n",
       "                        -0.1663,  0.1181],\n",
       "                       [ 0.0784, -0.2725,  0.2862,  0.2240, -0.1653, -0.0982,  0.2536, -0.0163,\n",
       "                         0.2019, -0.0636],\n",
       "                       [ 0.1895,  0.1997, -0.2043, -0.0432,  0.0446,  0.1507,  0.1844, -0.2073,\n",
       "                         0.1497,  0.2541]])),\n",
       "              ('bias',\n",
       "               tensor([-0.0291,  0.0158, -0.2206,  0.2307, -0.3070, -0.3000, -0.1881, -0.2210,\n",
       "                        0.2964, -0.2523]))]),\n",
       " OrderedDict(),\n",
       " OrderedDict([('weight',\n",
       "               tensor([[ 0.2760, -0.0139, -0.1607,  0.1855, -0.0051, -0.0124,  0.0110,  0.0099,\n",
       "                        -0.1604, -0.1587]])),\n",
       "              ('bias', tensor([-0.0669]))])]"
      ]
     },
     "execution_count": 12,
     "metadata": {},
     "output_type": "execute_result"
    }
   ],
   "source": [
    "x=torch.normal(0,1,(2,10))\n",
    "net=nn.Sequential(\n",
    "    nn.LazyLinear(10),#只用指定输出为10即可\n",
    "    nn.ReLU(),\n",
    "    nn.LazyLinear(1)\n",
    ")\n",
    "net(x)\n",
    "[net[i].state_dict() for i in range(3)]"
   ]
  }
 ],
 "metadata": {
  "kernelspec": {
   "display_name": "Python 3 (ipykernel)",
   "language": "python",
   "name": "python3"
  },
  "language_info": {
   "codemirror_mode": {
    "name": "ipython",
    "version": 3
   },
   "file_extension": ".py",
   "mimetype": "text/x-python",
   "name": "python",
   "nbconvert_exporter": "python",
   "pygments_lexer": "ipython3",
   "version": "3.7.16"
  }
 },
 "nbformat": 4,
 "nbformat_minor": 5
}
