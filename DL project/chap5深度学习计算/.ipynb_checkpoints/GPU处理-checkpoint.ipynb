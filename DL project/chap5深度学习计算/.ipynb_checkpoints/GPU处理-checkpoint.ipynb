{
 "cells": [
  {
   "cell_type": "code",
   "execution_count": 4,
   "id": "eae73b82",
   "metadata": {},
   "outputs": [],
   "source": [
    "import torch\n",
    "from torch import nn"
   ]
  },
  {
   "cell_type": "code",
   "execution_count": 13,
   "id": "e68eda45",
   "metadata": {},
   "outputs": [
    {
     "data": {
      "text/plain": [
       "1"
      ]
     },
     "execution_count": 13,
     "metadata": {},
     "output_type": "execute_result"
    }
   ],
   "source": [
    "torch.cuda.device_count()"
   ]
  },
  {
   "cell_type": "code",
   "execution_count": 30,
   "id": "db8237cf",
   "metadata": {},
   "outputs": [],
   "source": [
    "def try_GPU(i=0):\n",
    "    if torch.cuda.device_count()>=1+i:\n",
    "        return torch.device(f'cuda:{i}')\n",
    "    else:\n",
    "        return torch.device('cpu')\n",
    "def try_all_GPU():\n",
    "    device=[torch.device(f'cuda:{i}') for i in range(torch.cuda.device_count())]\n",
    "    return device if device else [torch.device('cpu')]"
   ]
  },
  {
   "cell_type": "code",
   "execution_count": 31,
   "id": "48b72d3b",
   "metadata": {},
   "outputs": [
    {
     "data": {
      "text/plain": [
       "([device(type='cuda', index=0)], device(type='cpu'))"
      ]
     },
     "execution_count": 31,
     "metadata": {},
     "output_type": "execute_result"
    }
   ],
   "source": [
    "try_all_GPU(),try_GPU(1)"
   ]
  },
  {
   "cell_type": "code",
   "execution_count": 32,
   "id": "60dd3a6b",
   "metadata": {},
   "outputs": [
    {
     "data": {
      "text/plain": [
       "device(type='cpu')"
      ]
     },
     "execution_count": 32,
     "metadata": {},
     "output_type": "execute_result"
    }
   ],
   "source": [
    "x=torch.tensor([1])\n",
    "x.device"
   ]
  },
  {
   "cell_type": "code",
   "execution_count": 37,
   "id": "d351a394",
   "metadata": {},
   "outputs": [
    {
     "data": {
      "text/plain": [
       "(device(type='cuda', index=0), device(type='cuda', index=0))"
      ]
     },
     "execution_count": 37,
     "metadata": {},
     "output_type": "execute_result"
    }
   ],
   "source": [
    "x1=torch.tensor([1,2,3,4],device=try_GPU(0))\n",
    "x2=torch.tensor([1,2,3,4,5,6],device=try_GPU())#默认为0\n",
    "x1.device,x2.device"
   ]
  },
  {
   "cell_type": "markdown",
   "id": "ad09d254",
   "metadata": {},
   "source": [
    "## 在GPU上部署神经网络"
   ]
  },
  {
   "cell_type": "code",
   "execution_count": 51,
   "id": "e70f3d0e",
   "metadata": {},
   "outputs": [
    {
     "data": {
      "text/plain": [
       "tensor([-4.0736, -3.6772, -2.9457], device='cuda:0', grad_fn=<AddBackward0>)"
      ]
     },
     "execution_count": 51,
     "metadata": {},
     "output_type": "execute_result"
    }
   ],
   "source": [
    "x=torch.tensor([1.,2.,3.,4.,5.],device=try_GPU(0))\n",
    "net=nn.Sequential(nn.Linear(5,3))\n",
    "net=net.to(device=try_GPU(0))\n",
    "net(x)"
   ]
  },
  {
   "cell_type": "code",
   "execution_count": 54,
   "id": "ab560fdc",
   "metadata": {},
   "outputs": [
    {
     "data": {
      "text/plain": [
       "device(type='cuda', index=0)"
      ]
     },
     "execution_count": 54,
     "metadata": {},
     "output_type": "execute_result"
    }
   ],
   "source": [
    "net[0].weight.data.device"
   ]
  },
  {
   "cell_type": "code",
   "execution_count": null,
   "id": "423eb87e",
   "metadata": {},
   "outputs": [],
   "source": []
  }
 ],
 "metadata": {
  "kernelspec": {
   "display_name": "Python 3 (ipykernel)",
   "language": "python",
   "name": "python3"
  },
  "language_info": {
   "codemirror_mode": {
    "name": "ipython",
    "version": 3
   },
   "file_extension": ".py",
   "mimetype": "text/x-python",
   "name": "python",
   "nbconvert_exporter": "python",
   "pygments_lexer": "ipython3",
   "version": "3.7.16"
  }
 },
 "nbformat": 4,
 "nbformat_minor": 5
}
