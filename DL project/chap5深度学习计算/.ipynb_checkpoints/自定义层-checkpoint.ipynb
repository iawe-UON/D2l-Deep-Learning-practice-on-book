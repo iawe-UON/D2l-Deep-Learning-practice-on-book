{
 "cells": [
  {
   "cell_type": "code",
   "execution_count": 12,
   "id": "a8e440e6",
   "metadata": {},
   "outputs": [],
   "source": [
    "import torch.nn as nn\n",
    "from d2l import torch as d2l\n",
    "import torch"
   ]
  },
  {
   "cell_type": "code",
   "execution_count": 13,
   "id": "9c862d79",
   "metadata": {},
   "outputs": [],
   "source": [
    "class center_layer(nn.Module):\n",
    "    def __init__(self):\n",
    "        super().__init__()\n",
    "    def forward(self,x):\n",
    "        return x-x.mean()"
   ]
  },
  {
   "cell_type": "code",
   "execution_count": 16,
   "id": "638195c5",
   "metadata": {},
   "outputs": [
    {
     "data": {
      "text/plain": [
       "tensor([-2., -1.,  0.,  1.,  2.])"
      ]
     },
     "execution_count": 16,
     "metadata": {},
     "output_type": "execute_result"
    }
   ],
   "source": [
    "net=center_layer()\n",
    "x=torch.tensor([1.,2.,3.,4.,5.])\n",
    "net(x)"
   ]
  },
  {
   "cell_type": "code",
   "execution_count": null,
   "id": "44160acc",
   "metadata": {},
   "outputs": [],
   "source": [
    "class nett(nn.Module):\n",
    "    def __init__(self,in_unit,out_unit):\n",
    "        super().__init__()\n",
    "        self.weight=nn.Parameters()"
   ]
  }
 ],
 "metadata": {
  "kernelspec": {
   "display_name": "Python 3 (ipykernel)",
   "language": "python",
   "name": "python3"
  },
  "language_info": {
   "codemirror_mode": {
    "name": "ipython",
    "version": 3
   },
   "file_extension": ".py",
   "mimetype": "text/x-python",
   "name": "python",
   "nbconvert_exporter": "python",
   "pygments_lexer": "ipython3",
   "version": "3.7.16"
  }
 },
 "nbformat": 4,
 "nbformat_minor": 5
}
