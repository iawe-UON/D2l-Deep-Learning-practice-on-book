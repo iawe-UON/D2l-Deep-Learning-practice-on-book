{
 "cells": [
  {
   "cell_type": "markdown",
   "id": "8532dfc7",
   "metadata": {},
   "source": [
    "## 读写文件(重点)\n",
    "#### 保存模型以及定期储存计算中间结果"
   ]
  },
  {
   "cell_type": "code",
   "execution_count": 2,
   "id": "2a9ae669",
   "metadata": {},
   "outputs": [],
   "source": [
    "import torch.nn as nn\n",
    "from d2l import torch as d2l\n",
    "import torch\n",
    "import torch.nn.functional as F\n",
    "import numpy as np"
   ]
  },
  {
   "cell_type": "code",
   "execution_count": 3,
   "id": "d3411c63",
   "metadata": {},
   "outputs": [],
   "source": [
    "x=torch.tensor([1,2,3,4])\n",
    "torch.save(x,'x_file')#torch.save(变量名，“文件名”)"
   ]
  },
  {
   "cell_type": "code",
   "execution_count": 4,
   "id": "7d6a66f4",
   "metadata": {},
   "outputs": [
    {
     "data": {
      "text/plain": [
       "tensor([1, 2, 3, 4])"
      ]
     },
     "execution_count": 4,
     "metadata": {},
     "output_type": "execute_result"
    }
   ],
   "source": [
    "x2=torch.load('x_file')\n",
    "x2"
   ]
  },
  {
   "cell_type": "code",
   "execution_count": 5,
   "id": "ce0cf8bb",
   "metadata": {},
   "outputs": [],
   "source": [
    "y=torch.zeros(4)\n",
    "torch.save([x,y],'x-files')\n",
    "x2,y2=torch.load('x-files')"
   ]
  },
  {
   "cell_type": "code",
   "execution_count": 6,
   "id": "9269a445",
   "metadata": {},
   "outputs": [
    {
     "data": {
      "text/plain": [
       "{'x': tensor([1, 2, 3, 4]), 'y': tensor([0., 0., 0., 0.])}"
      ]
     },
     "execution_count": 6,
     "metadata": {},
     "output_type": "execute_result"
    }
   ],
   "source": [
    "mydict={'x':x,'y':y}\n",
    "torch.save(mydict,'dict-file')\n",
    "mydict2=torch.load('dict-file')\n",
    "mydict2"
   ]
  },
  {
   "cell_type": "code",
   "execution_count": 7,
   "id": "94dcbcad",
   "metadata": {},
   "outputs": [
    {
     "data": {
      "text/plain": [
       "tensor([[-0.0026,  0.0762,  0.0856, -0.2947,  0.1622, -0.3981,  0.3132, -0.2227,\n",
       "         -0.1751,  0.0473],\n",
       "        [-0.1681,  0.3365, -0.3699, -0.4623,  0.1462, -0.3296,  0.5837,  0.4740,\n",
       "         -0.1566, -0.2416]], grad_fn=<AddmmBackward0>)"
      ]
     },
     "execution_count": 7,
     "metadata": {},
     "output_type": "execute_result"
    }
   ],
   "source": [
    "class MLP(nn.Module):\n",
    "    def __init__(self):\n",
    "        super().__init__()\n",
    "        self.hidden=nn.Linear(20,256)\n",
    "        self.out=nn.Linear(256,10)\n",
    "    def forward(self,x):\n",
    "        return self.out(torch.nn.functional.relu(self.hidden(x)))\n",
    "net=MLP()\n",
    "x=torch.randn(2,20)\n",
    "net(x)"
   ]
  },
  {
   "cell_type": "code",
   "execution_count": 12,
   "id": "49635e90",
   "metadata": {},
   "outputs": [
    {
     "data": {
      "text/plain": [
       "MLP(\n",
       "  (hidden): Linear(in_features=20, out_features=256, bias=True)\n",
       "  (out): Linear(in_features=256, out_features=10, bias=True)\n",
       ")"
      ]
     },
     "execution_count": 12,
     "metadata": {},
     "output_type": "execute_result"
    }
   ],
   "source": [
    "torch.save(net.state_dict(),'MLP.params')\n",
    "clone=MLP()\n",
    "clone.load_state_dict(torch.load('MLP.params'))\n",
    "clone"
   ]
  },
  {
   "cell_type": "code",
   "execution_count": 13,
   "id": "0bb535ba",
   "metadata": {},
   "outputs": [
    {
     "data": {
      "text/plain": [
       "tensor([[True, True, True, True, True, True, True, True, True, True],\n",
       "        [True, True, True, True, True, True, True, True, True, True]])"
      ]
     },
     "execution_count": 13,
     "metadata": {},
     "output_type": "execute_result"
    }
   ],
   "source": [
    "clone(x)==net(x)"
   ]
  }
 ],
 "metadata": {
  "kernelspec": {
   "display_name": "Python 3 (ipykernel)",
   "language": "python",
   "name": "python3"
  },
  "language_info": {
   "codemirror_mode": {
    "name": "ipython",
    "version": 3
   },
   "file_extension": ".py",
   "mimetype": "text/x-python",
   "name": "python",
   "nbconvert_exporter": "python",
   "pygments_lexer": "ipython3",
   "version": "3.7.16"
  }
 },
 "nbformat": 4,
 "nbformat_minor": 5
}
